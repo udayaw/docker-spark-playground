{
 "cells": [
  {
   "cell_type": "code",
   "execution_count": 1,
   "id": "3d8a5a4a",
   "metadata": {},
   "outputs": [
    {
     "name": "stderr",
     "output_type": "stream",
     "text": [
      "23/10/30 13:52:12 WARN MetricsConfig: Cannot locate configuration: tried hadoop-metrics2-s3a-file-system.properties,hadoop-metrics2.properties\n",
      "23/10/30 13:52:13 WARN SparkSession: Using an existing Spark session; only runtime SQL configurations will take effect.\n",
      "23/10/30 13:52:14 WARN HiveConf: HiveConf of name hive.stats.jdbc.timeout does not exist\n",
      "23/10/30 13:52:14 WARN HiveConf: HiveConf of name hive.stats.retries.wait does not exist\n",
      "23/10/30 13:52:15 WARN ObjectStore: Version information not found in metastore. hive.metastore.schema.verification is not enabled so recording the schema version 2.3.0\n",
      "23/10/30 13:52:15 WARN ObjectStore: setMetaStoreSchemaVersion called but recording version is disabled: version = 2.3.0, comment = Set by MetaStore UNKNOWN@172.18.0.5\n",
      "23/10/30 13:52:15 WARN ObjectStore: Failed to get database global_temp, returning NoSuchObjectException\n"
     ]
    },
    {
     "data": {
      "text/html": [
       "<table>\n",
       "    <thead>\n",
       "        <tr>\n",
       "        </tr>\n",
       "    </thead>\n",
       "    <tbody>\n",
       "    </tbody>\n",
       "</table>"
      ],
      "text/plain": [
       "++\n",
       "||\n",
       "++\n",
       "++"
      ]
     },
     "execution_count": 1,
     "metadata": {},
     "output_type": "execute_result"
    }
   ],
   "source": [
    "%%sql\n",
    "use spark_catalog"
   ]
  },
  {
   "cell_type": "code",
   "execution_count": null,
   "id": "1f02580a",
   "metadata": {},
   "outputs": [],
   "source": [
    "%%sql\n",
    "CREATE TABLE non_delta (country STRING, continent STRING) USING PARQUET;"
   ]
  },
  {
   "cell_type": "code",
   "execution_count": 2,
   "id": "65cb372b",
   "metadata": {},
   "outputs": [
    {
     "name": "stderr",
     "output_type": "stream",
     "text": [
      "                                                                                \r"
     ]
    },
    {
     "data": {
      "text/html": [
       "<table>\n",
       "    <thead>\n",
       "        <tr>\n",
       "        </tr>\n",
       "    </thead>\n",
       "    <tbody>\n",
       "    </tbody>\n",
       "</table>"
      ],
      "text/plain": [
       "++\n",
       "||\n",
       "++\n",
       "++"
      ]
     },
     "execution_count": 2,
     "metadata": {},
     "output_type": "execute_result"
    }
   ],
   "source": [
    "%%sql\n",
    "insert into non_delta values ('Sri Lanka', 'Asia');\n"
   ]
  },
  {
   "cell_type": "code",
   "execution_count": null,
   "id": "5a7c5328",
   "metadata": {},
   "outputs": [],
   "source": [
    "%%sql\n",
    "CREATE TABLE delta (country STRING, continent STRING) USING delta;"
   ]
  },
  {
   "cell_type": "code",
   "execution_count": 3,
   "id": "c7cc68fc",
   "metadata": {},
   "outputs": [
    {
     "name": "stderr",
     "output_type": "stream",
     "text": [
      "23/10/30 13:52:34 WARN SparkStringUtils: Truncated the string representation of a plan since it was too large. This behavior can be adjusted by setting 'spark.sql.debug.maxToStringFields'.\n",
      "                                                                                \r"
     ]
    },
    {
     "data": {
      "text/html": [
       "<table>\n",
       "    <thead>\n",
       "        <tr>\n",
       "        </tr>\n",
       "    </thead>\n",
       "    <tbody>\n",
       "    </tbody>\n",
       "</table>"
      ],
      "text/plain": [
       "++\n",
       "||\n",
       "++\n",
       "++"
      ]
     },
     "execution_count": 3,
     "metadata": {},
     "output_type": "execute_result"
    }
   ],
   "source": [
    "%%sql\n",
    "insert into delta values ('Sri Lanka', 'Asia');"
   ]
  },
  {
   "cell_type": "code",
   "execution_count": 8,
   "id": "fd0c6752",
   "metadata": {},
   "outputs": [
    {
     "data": {
      "text/html": [
       "<table>\n",
       "    <thead>\n",
       "        <tr>\n",
       "            <th>version</th>\n",
       "            <th>timestamp</th>\n",
       "            <th>userId</th>\n",
       "            <th>userName</th>\n",
       "            <th>operation</th>\n",
       "            <th>operationParameters</th>\n",
       "            <th>job</th>\n",
       "            <th>notebook</th>\n",
       "            <th>clusterId</th>\n",
       "            <th>readVersion</th>\n",
       "            <th>isolationLevel</th>\n",
       "            <th>isBlindAppend</th>\n",
       "            <th>operationMetrics</th>\n",
       "            <th>userMetadata</th>\n",
       "            <th>engineInfo</th>\n",
       "        </tr>\n",
       "    </thead>\n",
       "    <tbody>\n",
       "        <tr>\n",
       "            <td>8</td>\n",
       "            <td>2023-10-30 13:52:57</td>\n",
       "            <td>None</td>\n",
       "            <td>None</td>\n",
       "            <td>DELETE</td>\n",
       "            <td>{&#x27;predicate&#x27;: &#x27;[&quot;(country#1808 = Sri Lanka)&quot;]&#x27;}</td>\n",
       "            <td>None</td>\n",
       "            <td>None</td>\n",
       "            <td>None</td>\n",
       "            <td>7</td>\n",
       "            <td>Serializable</td>\n",
       "            <td>False</td>\n",
       "            <td>{&#x27;numDeletionVectorsUpdated&#x27;: &#x27;0&#x27;, &#x27;numAddedFiles&#x27;: &#x27;0&#x27;, &#x27;executionTimeMs&#x27;: &#x27;1769&#x27;, &#x27;numDeletionVectorsRemoved&#x27;: &#x27;0&#x27;, &#x27;numRemovedFiles&#x27;: &#x27;5&#x27;, &#x27;rewriteTimeMs&#x27;: &#x27;246&#x27;, &#x27;numRemovedBytes&#x27;: &#x27;3800&#x27;, &#x27;scanTimeMs&#x27;: &#x27;1522&#x27;, &#x27;numCopiedRows&#x27;: &#x27;0&#x27;, &#x27;numDeletionVectorsAdded&#x27;: &#x27;0&#x27;, &#x27;numAddedChangeFiles&#x27;: &#x27;0&#x27;, &#x27;numDeletedRows&#x27;: &#x27;5&#x27;, &#x27;numAddedBytes&#x27;: &#x27;0&#x27;}</td>\n",
       "            <td>None</td>\n",
       "            <td>Apache-Spark/3.5.0 Delta-Lake/3.0.0</td>\n",
       "        </tr>\n",
       "        <tr>\n",
       "            <td>7</td>\n",
       "            <td>2023-10-30 13:52:37</td>\n",
       "            <td>None</td>\n",
       "            <td>None</td>\n",
       "            <td>WRITE</td>\n",
       "            <td>{&#x27;mode&#x27;: &#x27;Append&#x27;, &#x27;partitionBy&#x27;: &#x27;[]&#x27;}</td>\n",
       "            <td>None</td>\n",
       "            <td>None</td>\n",
       "            <td>None</td>\n",
       "            <td>6</td>\n",
       "            <td>Serializable</td>\n",
       "            <td>True</td>\n",
       "            <td>{&#x27;numOutputRows&#x27;: &#x27;1&#x27;, &#x27;numOutputBytes&#x27;: &#x27;760&#x27;, &#x27;numFiles&#x27;: &#x27;1&#x27;}</td>\n",
       "            <td>None</td>\n",
       "            <td>Apache-Spark/3.5.0 Delta-Lake/3.0.0</td>\n",
       "        </tr>\n",
       "        <tr>\n",
       "            <td>6</td>\n",
       "            <td>2023-10-30 12:04:56</td>\n",
       "            <td>None</td>\n",
       "            <td>None</td>\n",
       "            <td>WRITE</td>\n",
       "            <td>{&#x27;mode&#x27;: &#x27;Append&#x27;, &#x27;partitionBy&#x27;: &#x27;[]&#x27;}</td>\n",
       "            <td>None</td>\n",
       "            <td>None</td>\n",
       "            <td>None</td>\n",
       "            <td>5</td>\n",
       "            <td>Serializable</td>\n",
       "            <td>True</td>\n",
       "            <td>{&#x27;numOutputRows&#x27;: &#x27;1&#x27;, &#x27;numOutputBytes&#x27;: &#x27;760&#x27;, &#x27;numFiles&#x27;: &#x27;1&#x27;}</td>\n",
       "            <td>None</td>\n",
       "            <td>Apache-Spark/3.3.2 Delta-Lake/2.2.0</td>\n",
       "        </tr>\n",
       "        <tr>\n",
       "            <td>5</td>\n",
       "            <td>2023-10-30 12:04:02</td>\n",
       "            <td>None</td>\n",
       "            <td>None</td>\n",
       "            <td>WRITE</td>\n",
       "            <td>{&#x27;mode&#x27;: &#x27;Append&#x27;, &#x27;partitionBy&#x27;: &#x27;[]&#x27;}</td>\n",
       "            <td>None</td>\n",
       "            <td>None</td>\n",
       "            <td>None</td>\n",
       "            <td>4</td>\n",
       "            <td>Serializable</td>\n",
       "            <td>True</td>\n",
       "            <td>{&#x27;numOutputRows&#x27;: &#x27;1&#x27;, &#x27;numOutputBytes&#x27;: &#x27;760&#x27;, &#x27;numFiles&#x27;: &#x27;1&#x27;}</td>\n",
       "            <td>None</td>\n",
       "            <td>Apache-Spark/3.3.2 Delta-Lake/2.2.0</td>\n",
       "        </tr>\n",
       "        <tr>\n",
       "            <td>4</td>\n",
       "            <td>2023-10-30 12:03:03</td>\n",
       "            <td>None</td>\n",
       "            <td>None</td>\n",
       "            <td>WRITE</td>\n",
       "            <td>{&#x27;mode&#x27;: &#x27;Append&#x27;, &#x27;partitionBy&#x27;: &#x27;[]&#x27;}</td>\n",
       "            <td>None</td>\n",
       "            <td>None</td>\n",
       "            <td>None</td>\n",
       "            <td>3</td>\n",
       "            <td>Serializable</td>\n",
       "            <td>True</td>\n",
       "            <td>{&#x27;numOutputRows&#x27;: &#x27;1&#x27;, &#x27;numOutputBytes&#x27;: &#x27;760&#x27;, &#x27;numFiles&#x27;: &#x27;1&#x27;}</td>\n",
       "            <td>None</td>\n",
       "            <td>Apache-Spark/3.3.2 Delta-Lake/2.2.0</td>\n",
       "        </tr>\n",
       "        <tr>\n",
       "            <td>3</td>\n",
       "            <td>2023-10-30 11:33:59</td>\n",
       "            <td>None</td>\n",
       "            <td>None</td>\n",
       "            <td>WRITE</td>\n",
       "            <td>{&#x27;mode&#x27;: &#x27;Append&#x27;, &#x27;partitionBy&#x27;: &#x27;[]&#x27;}</td>\n",
       "            <td>None</td>\n",
       "            <td>None</td>\n",
       "            <td>None</td>\n",
       "            <td>2</td>\n",
       "            <td>Serializable</td>\n",
       "            <td>True</td>\n",
       "            <td>{&#x27;numOutputRows&#x27;: &#x27;1&#x27;, &#x27;numOutputBytes&#x27;: &#x27;760&#x27;, &#x27;numFiles&#x27;: &#x27;1&#x27;}</td>\n",
       "            <td>None</td>\n",
       "            <td>Apache-Spark/3.3.2 Delta-Lake/2.2.0</td>\n",
       "        </tr>\n",
       "        <tr>\n",
       "            <td>2</td>\n",
       "            <td>2023-10-30 11:18:01</td>\n",
       "            <td>None</td>\n",
       "            <td>None</td>\n",
       "            <td>DELETE</td>\n",
       "            <td>{&#x27;predicate&#x27;: &#x27;[&quot;(spark_catalog.default.delta.country = \\&#x27;Sri Lanka\\&#x27;)&quot;]&#x27;}</td>\n",
       "            <td>None</td>\n",
       "            <td>None</td>\n",
       "            <td>None</td>\n",
       "            <td>1</td>\n",
       "            <td>Serializable</td>\n",
       "            <td>False</td>\n",
       "            <td>{&#x27;numAddedFiles&#x27;: &#x27;0&#x27;, &#x27;scanTimeMs&#x27;: &#x27;1217&#x27;, &#x27;numCopiedRows&#x27;: &#x27;0&#x27;, &#x27;executionTimeMs&#x27;: &#x27;1383&#x27;, &#x27;numAddedChangeFiles&#x27;: &#x27;0&#x27;, &#x27;numDeletedRows&#x27;: &#x27;1&#x27;, &#x27;numRemovedFiles&#x27;: &#x27;1&#x27;, &#x27;rewriteTimeMs&#x27;: &#x27;165&#x27;}</td>\n",
       "            <td>None</td>\n",
       "            <td>Apache-Spark/3.3.2 Delta-Lake/2.2.0</td>\n",
       "        </tr>\n",
       "        <tr>\n",
       "            <td>1</td>\n",
       "            <td>2023-10-30 11:17:04</td>\n",
       "            <td>None</td>\n",
       "            <td>None</td>\n",
       "            <td>WRITE</td>\n",
       "            <td>{&#x27;mode&#x27;: &#x27;Append&#x27;, &#x27;partitionBy&#x27;: &#x27;[]&#x27;}</td>\n",
       "            <td>None</td>\n",
       "            <td>None</td>\n",
       "            <td>None</td>\n",
       "            <td>0</td>\n",
       "            <td>Serializable</td>\n",
       "            <td>True</td>\n",
       "            <td>{&#x27;numOutputRows&#x27;: &#x27;1&#x27;, &#x27;numOutputBytes&#x27;: &#x27;760&#x27;, &#x27;numFiles&#x27;: &#x27;1&#x27;}</td>\n",
       "            <td>None</td>\n",
       "            <td>Apache-Spark/3.3.2 Delta-Lake/2.2.0</td>\n",
       "        </tr>\n",
       "        <tr>\n",
       "            <td>0</td>\n",
       "            <td>2023-10-30 11:14:55</td>\n",
       "            <td>None</td>\n",
       "            <td>None</td>\n",
       "            <td>CREATE TABLE</td>\n",
       "            <td>{&#x27;description&#x27;: None, &#x27;partitionBy&#x27;: &#x27;[]&#x27;, &#x27;properties&#x27;: &#x27;{}&#x27;, &#x27;isManaged&#x27;: &#x27;true&#x27;}</td>\n",
       "            <td>None</td>\n",
       "            <td>None</td>\n",
       "            <td>None</td>\n",
       "            <td>None</td>\n",
       "            <td>Serializable</td>\n",
       "            <td>True</td>\n",
       "            <td>{}</td>\n",
       "            <td>None</td>\n",
       "            <td>Apache-Spark/3.3.2 Delta-Lake/2.2.0</td>\n",
       "        </tr>\n",
       "    </tbody>\n",
       "</table>"
      ],
      "text/plain": [
       "+---------+---------------------+--------+----------+--------------+-------------------------------------------------------------------------------------+------+----------+-----------+-------------+----------------+---------------+-------------------------------------------------------------------------------------------------------------------------------------------------------------------------------------------------------------------------------------------------------------------------------------------------------------------------------------------------------+--------------+-------------------------------------+\n",
       "| version |           timestamp | userId | userName |    operation |                                                                 operationParameters |  job | notebook | clusterId | readVersion | isolationLevel | isBlindAppend |                                                                                                                                                                                                                                                                                                                                      operationMetrics | userMetadata |                          engineInfo |\n",
       "+---------+---------------------+--------+----------+--------------+-------------------------------------------------------------------------------------+------+----------+-----------+-------------+----------------+---------------+-------------------------------------------------------------------------------------------------------------------------------------------------------------------------------------------------------------------------------------------------------------------------------------------------------------------------------------------------------+--------------+-------------------------------------+\n",
       "|       8 | 2023-10-30 13:52:57 |   None |     None |       DELETE |                                     {'predicate': '[\"(country#1808 = Sri Lanka)\"]'} | None |     None |      None |           7 |   Serializable |         False | {'numDeletionVectorsUpdated': '0', 'numAddedFiles': '0', 'executionTimeMs': '1769', 'numDeletionVectorsRemoved': '0', 'numRemovedFiles': '5', 'rewriteTimeMs': '246', 'numRemovedBytes': '3800', 'scanTimeMs': '1522', 'numCopiedRows': '0', 'numDeletionVectorsAdded': '0', 'numAddedChangeFiles': '0', 'numDeletedRows': '5', 'numAddedBytes': '0'} |         None | Apache-Spark/3.5.0 Delta-Lake/3.0.0 |\n",
       "|       7 | 2023-10-30 13:52:37 |   None |     None |        WRITE |                                             {'mode': 'Append', 'partitionBy': '[]'} | None |     None |      None |           6 |   Serializable |          True |                                                                                                                                                                                                                                                                                      {'numOutputRows': '1', 'numOutputBytes': '760', 'numFiles': '1'} |         None | Apache-Spark/3.5.0 Delta-Lake/3.0.0 |\n",
       "|       6 | 2023-10-30 12:04:56 |   None |     None |        WRITE |                                             {'mode': 'Append', 'partitionBy': '[]'} | None |     None |      None |           5 |   Serializable |          True |                                                                                                                                                                                                                                                                                      {'numOutputRows': '1', 'numOutputBytes': '760', 'numFiles': '1'} |         None | Apache-Spark/3.3.2 Delta-Lake/2.2.0 |\n",
       "|       5 | 2023-10-30 12:04:02 |   None |     None |        WRITE |                                             {'mode': 'Append', 'partitionBy': '[]'} | None |     None |      None |           4 |   Serializable |          True |                                                                                                                                                                                                                                                                                      {'numOutputRows': '1', 'numOutputBytes': '760', 'numFiles': '1'} |         None | Apache-Spark/3.3.2 Delta-Lake/2.2.0 |\n",
       "|       4 | 2023-10-30 12:03:03 |   None |     None |        WRITE |                                             {'mode': 'Append', 'partitionBy': '[]'} | None |     None |      None |           3 |   Serializable |          True |                                                                                                                                                                                                                                                                                      {'numOutputRows': '1', 'numOutputBytes': '760', 'numFiles': '1'} |         None | Apache-Spark/3.3.2 Delta-Lake/2.2.0 |\n",
       "|       3 | 2023-10-30 11:33:59 |   None |     None |        WRITE |                                             {'mode': 'Append', 'partitionBy': '[]'} | None |     None |      None |           2 |   Serializable |          True |                                                                                                                                                                                                                                                                                      {'numOutputRows': '1', 'numOutputBytes': '760', 'numFiles': '1'} |         None | Apache-Spark/3.3.2 Delta-Lake/2.2.0 |\n",
       "|       2 | 2023-10-30 11:18:01 |   None |     None |       DELETE |          {'predicate': '[\"(spark_catalog.default.delta.country = \\'Sri Lanka\\')\"]'} | None |     None |      None |           1 |   Serializable |         False |                                                                                                                                                      {'numAddedFiles': '0', 'scanTimeMs': '1217', 'numCopiedRows': '0', 'executionTimeMs': '1383', 'numAddedChangeFiles': '0', 'numDeletedRows': '1', 'numRemovedFiles': '1', 'rewriteTimeMs': '165'} |         None | Apache-Spark/3.3.2 Delta-Lake/2.2.0 |\n",
       "|       1 | 2023-10-30 11:17:04 |   None |     None |        WRITE |                                             {'mode': 'Append', 'partitionBy': '[]'} | None |     None |      None |           0 |   Serializable |          True |                                                                                                                                                                                                                                                                                      {'numOutputRows': '1', 'numOutputBytes': '760', 'numFiles': '1'} |         None | Apache-Spark/3.3.2 Delta-Lake/2.2.0 |\n",
       "|       0 | 2023-10-30 11:14:55 |   None |     None | CREATE TABLE | {'description': None, 'partitionBy': '[]', 'properties': '{}', 'isManaged': 'true'} | None |     None |      None |        None |   Serializable |          True |                                                                                                                                                                                                                                                                                                                                                    {} |         None | Apache-Spark/3.3.2 Delta-Lake/2.2.0 |\n",
       "+---------+---------------------+--------+----------+--------------+-------------------------------------------------------------------------------------+------+----------+-----------+-------------+----------------+---------------+-------------------------------------------------------------------------------------------------------------------------------------------------------------------------------------------------------------------------------------------------------------------------------------------------------------------------------------------------------+--------------+-------------------------------------+"
      ]
     },
     "execution_count": 8,
     "metadata": {},
     "output_type": "execute_result"
    }
   ],
   "source": [
    "%%sql\n",
    "DESCRIBE HISTORY delta"
   ]
  },
  {
   "cell_type": "code",
   "execution_count": 5,
   "id": "590a5f97",
   "metadata": {},
   "outputs": [
    {
     "data": {
      "text/html": [
       "<table>\n",
       "    <thead>\n",
       "        <tr>\n",
       "            <th>namespace</th>\n",
       "            <th>tableName</th>\n",
       "            <th>isTemporary</th>\n",
       "        </tr>\n",
       "    </thead>\n",
       "    <tbody>\n",
       "        <tr>\n",
       "            <td>default</td>\n",
       "            <td>delta</td>\n",
       "            <td>False</td>\n",
       "        </tr>\n",
       "        <tr>\n",
       "            <td>default</td>\n",
       "            <td>non_delta</td>\n",
       "            <td>False</td>\n",
       "        </tr>\n",
       "    </tbody>\n",
       "</table>"
      ],
      "text/plain": [
       "+-----------+-----------+-------------+\n",
       "| namespace | tableName | isTemporary |\n",
       "+-----------+-----------+-------------+\n",
       "|   default |     delta |       False |\n",
       "|   default | non_delta |       False |\n",
       "+-----------+-----------+-------------+"
      ]
     },
     "execution_count": 5,
     "metadata": {},
     "output_type": "execute_result"
    }
   ],
   "source": [
    "%%sql\n",
    "show tables"
   ]
  },
  {
   "cell_type": "code",
   "execution_count": 6,
   "id": "85c810ef",
   "metadata": {},
   "outputs": [
    {
     "ename": "AnalysisException",
     "evalue": "[UNSUPPORTED_FEATURE.TABLE_OPERATION] The feature is not supported: Table `spark_catalog`.`default`.`non_delta` does not support DELETE. Please check the current catalog and namespace to make sure the qualified table name is expected, and also check the catalog implementation which is configured by \"spark.sql.catalog\".",
     "output_type": "error",
     "traceback": [
      "\u001b[0;31m---------------------------------------------------------------------------\u001b[0m",
      "\u001b[0;31mAnalysisException\u001b[0m                         Traceback (most recent call last)",
      "Cell \u001b[0;32mIn[6], line 1\u001b[0m\n\u001b[0;32m----> 1\u001b[0m \u001b[43mget_ipython\u001b[49m\u001b[43m(\u001b[49m\u001b[43m)\u001b[49m\u001b[38;5;241;43m.\u001b[39;49m\u001b[43mrun_cell_magic\u001b[49m\u001b[43m(\u001b[49m\u001b[38;5;124;43m'\u001b[39;49m\u001b[38;5;124;43msql\u001b[39;49m\u001b[38;5;124;43m'\u001b[39;49m\u001b[43m,\u001b[49m\u001b[43m \u001b[49m\u001b[38;5;124;43m'\u001b[39;49m\u001b[38;5;124;43m'\u001b[39;49m\u001b[43m,\u001b[49m\u001b[43m \u001b[49m\u001b[38;5;124;43m\"\u001b[39;49m\u001b[38;5;124;43mdelete from non_delta where country = \u001b[39;49m\u001b[38;5;124;43m'\u001b[39;49m\u001b[38;5;124;43mSri Lanka\u001b[39;49m\u001b[38;5;124;43m'\u001b[39;49m\u001b[38;5;130;43;01m\\n\u001b[39;49;00m\u001b[38;5;124;43m\"\u001b[39;49m\u001b[43m)\u001b[49m\n",
      "File \u001b[0;32m/usr/local/lib/python3.9/site-packages/IPython/core/interactiveshell.py:2515\u001b[0m, in \u001b[0;36mInteractiveShell.run_cell_magic\u001b[0;34m(self, magic_name, line, cell)\u001b[0m\n\u001b[1;32m   2513\u001b[0m \u001b[38;5;28;01mwith\u001b[39;00m \u001b[38;5;28mself\u001b[39m\u001b[38;5;241m.\u001b[39mbuiltin_trap:\n\u001b[1;32m   2514\u001b[0m     args \u001b[38;5;241m=\u001b[39m (magic_arg_s, cell)\n\u001b[0;32m-> 2515\u001b[0m     result \u001b[38;5;241m=\u001b[39m \u001b[43mfn\u001b[49m\u001b[43m(\u001b[49m\u001b[38;5;241;43m*\u001b[39;49m\u001b[43margs\u001b[49m\u001b[43m,\u001b[49m\u001b[43m \u001b[49m\u001b[38;5;241;43m*\u001b[39;49m\u001b[38;5;241;43m*\u001b[39;49m\u001b[43mkwargs\u001b[49m\u001b[43m)\u001b[49m\n\u001b[1;32m   2517\u001b[0m \u001b[38;5;66;03m# The code below prevents the output from being displayed\u001b[39;00m\n\u001b[1;32m   2518\u001b[0m \u001b[38;5;66;03m# when using magics with decorator @output_can_be_silenced\u001b[39;00m\n\u001b[1;32m   2519\u001b[0m \u001b[38;5;66;03m# when the last Python token in the expression is a ';'.\u001b[39;00m\n\u001b[1;32m   2520\u001b[0m \u001b[38;5;28;01mif\u001b[39;00m \u001b[38;5;28mgetattr\u001b[39m(fn, magic\u001b[38;5;241m.\u001b[39mMAGIC_OUTPUT_CAN_BE_SILENCED, \u001b[38;5;28;01mFalse\u001b[39;00m):\n",
      "File \u001b[0;32m~/.ipython/profile_default/startup/00-prettytables.py:81\u001b[0m, in \u001b[0;36msql\u001b[0;34m(line, cell)\u001b[0m\n\u001b[1;32m     79\u001b[0m         \u001b[38;5;28;01mreturn\u001b[39;00m _to_table(df, num_rows\u001b[38;5;241m=\u001b[39margs\u001b[38;5;241m.\u001b[39mlimit)\n\u001b[1;32m     80\u001b[0m \u001b[38;5;28;01melse\u001b[39;00m:\n\u001b[0;32m---> 81\u001b[0m     \u001b[38;5;28;01mreturn\u001b[39;00m _to_table(\u001b[43mspark\u001b[49m\u001b[38;5;241;43m.\u001b[39;49m\u001b[43msql\u001b[49m\u001b[43m(\u001b[49m\u001b[43mcell\u001b[49m\u001b[43m)\u001b[49m)\n",
      "File \u001b[0;32m/opt/spark/python/pyspark/sql/session.py:1631\u001b[0m, in \u001b[0;36mSparkSession.sql\u001b[0;34m(self, sqlQuery, args, **kwargs)\u001b[0m\n\u001b[1;32m   1627\u001b[0m         \u001b[38;5;28;01massert\u001b[39;00m \u001b[38;5;28mself\u001b[39m\u001b[38;5;241m.\u001b[39m_jvm \u001b[38;5;129;01mis\u001b[39;00m \u001b[38;5;129;01mnot\u001b[39;00m \u001b[38;5;28;01mNone\u001b[39;00m\n\u001b[1;32m   1628\u001b[0m         litArgs \u001b[38;5;241m=\u001b[39m \u001b[38;5;28mself\u001b[39m\u001b[38;5;241m.\u001b[39m_jvm\u001b[38;5;241m.\u001b[39mPythonUtils\u001b[38;5;241m.\u001b[39mtoArray(\n\u001b[1;32m   1629\u001b[0m             [_to_java_column(lit(v)) \u001b[38;5;28;01mfor\u001b[39;00m v \u001b[38;5;129;01min\u001b[39;00m (args \u001b[38;5;129;01mor\u001b[39;00m [])]\n\u001b[1;32m   1630\u001b[0m         )\n\u001b[0;32m-> 1631\u001b[0m     \u001b[38;5;28;01mreturn\u001b[39;00m DataFrame(\u001b[38;5;28;43mself\u001b[39;49m\u001b[38;5;241;43m.\u001b[39;49m\u001b[43m_jsparkSession\u001b[49m\u001b[38;5;241;43m.\u001b[39;49m\u001b[43msql\u001b[49m\u001b[43m(\u001b[49m\u001b[43msqlQuery\u001b[49m\u001b[43m,\u001b[49m\u001b[43m \u001b[49m\u001b[43mlitArgs\u001b[49m\u001b[43m)\u001b[49m, \u001b[38;5;28mself\u001b[39m)\n\u001b[1;32m   1632\u001b[0m \u001b[38;5;28;01mfinally\u001b[39;00m:\n\u001b[1;32m   1633\u001b[0m     \u001b[38;5;28;01mif\u001b[39;00m \u001b[38;5;28mlen\u001b[39m(kwargs) \u001b[38;5;241m>\u001b[39m \u001b[38;5;241m0\u001b[39m:\n",
      "File \u001b[0;32m/opt/spark/python/lib/py4j-0.10.9.7-src.zip/py4j/java_gateway.py:1322\u001b[0m, in \u001b[0;36mJavaMember.__call__\u001b[0;34m(self, *args)\u001b[0m\n\u001b[1;32m   1316\u001b[0m command \u001b[38;5;241m=\u001b[39m proto\u001b[38;5;241m.\u001b[39mCALL_COMMAND_NAME \u001b[38;5;241m+\u001b[39m\\\n\u001b[1;32m   1317\u001b[0m     \u001b[38;5;28mself\u001b[39m\u001b[38;5;241m.\u001b[39mcommand_header \u001b[38;5;241m+\u001b[39m\\\n\u001b[1;32m   1318\u001b[0m     args_command \u001b[38;5;241m+\u001b[39m\\\n\u001b[1;32m   1319\u001b[0m     proto\u001b[38;5;241m.\u001b[39mEND_COMMAND_PART\n\u001b[1;32m   1321\u001b[0m answer \u001b[38;5;241m=\u001b[39m \u001b[38;5;28mself\u001b[39m\u001b[38;5;241m.\u001b[39mgateway_client\u001b[38;5;241m.\u001b[39msend_command(command)\n\u001b[0;32m-> 1322\u001b[0m return_value \u001b[38;5;241m=\u001b[39m \u001b[43mget_return_value\u001b[49m\u001b[43m(\u001b[49m\n\u001b[1;32m   1323\u001b[0m \u001b[43m    \u001b[49m\u001b[43manswer\u001b[49m\u001b[43m,\u001b[49m\u001b[43m \u001b[49m\u001b[38;5;28;43mself\u001b[39;49m\u001b[38;5;241;43m.\u001b[39;49m\u001b[43mgateway_client\u001b[49m\u001b[43m,\u001b[49m\u001b[43m \u001b[49m\u001b[38;5;28;43mself\u001b[39;49m\u001b[38;5;241;43m.\u001b[39;49m\u001b[43mtarget_id\u001b[49m\u001b[43m,\u001b[49m\u001b[43m \u001b[49m\u001b[38;5;28;43mself\u001b[39;49m\u001b[38;5;241;43m.\u001b[39;49m\u001b[43mname\u001b[49m\u001b[43m)\u001b[49m\n\u001b[1;32m   1325\u001b[0m \u001b[38;5;28;01mfor\u001b[39;00m temp_arg \u001b[38;5;129;01min\u001b[39;00m temp_args:\n\u001b[1;32m   1326\u001b[0m     \u001b[38;5;28;01mif\u001b[39;00m \u001b[38;5;28mhasattr\u001b[39m(temp_arg, \u001b[38;5;124m\"\u001b[39m\u001b[38;5;124m_detach\u001b[39m\u001b[38;5;124m\"\u001b[39m):\n",
      "File \u001b[0;32m/opt/spark/python/pyspark/errors/exceptions/captured.py:185\u001b[0m, in \u001b[0;36mcapture_sql_exception.<locals>.deco\u001b[0;34m(*a, **kw)\u001b[0m\n\u001b[1;32m    181\u001b[0m converted \u001b[38;5;241m=\u001b[39m convert_exception(e\u001b[38;5;241m.\u001b[39mjava_exception)\n\u001b[1;32m    182\u001b[0m \u001b[38;5;28;01mif\u001b[39;00m \u001b[38;5;129;01mnot\u001b[39;00m \u001b[38;5;28misinstance\u001b[39m(converted, UnknownException):\n\u001b[1;32m    183\u001b[0m     \u001b[38;5;66;03m# Hide where the exception came from that shows a non-Pythonic\u001b[39;00m\n\u001b[1;32m    184\u001b[0m     \u001b[38;5;66;03m# JVM exception message.\u001b[39;00m\n\u001b[0;32m--> 185\u001b[0m     \u001b[38;5;28;01mraise\u001b[39;00m converted \u001b[38;5;28;01mfrom\u001b[39;00m \u001b[38;5;28;01mNone\u001b[39;00m\n\u001b[1;32m    186\u001b[0m \u001b[38;5;28;01melse\u001b[39;00m:\n\u001b[1;32m    187\u001b[0m     \u001b[38;5;28;01mraise\u001b[39;00m\n",
      "\u001b[0;31mAnalysisException\u001b[0m: [UNSUPPORTED_FEATURE.TABLE_OPERATION] The feature is not supported: Table `spark_catalog`.`default`.`non_delta` does not support DELETE. Please check the current catalog and namespace to make sure the qualified table name is expected, and also check the catalog implementation which is configured by \"spark.sql.catalog\"."
     ]
    }
   ],
   "source": [
    "%%sql\n",
    "delete from non_delta where country = 'Sri Lanka'"
   ]
  },
  {
   "cell_type": "code",
   "execution_count": 7,
   "id": "02355c94",
   "metadata": {},
   "outputs": [
    {
     "name": "stderr",
     "output_type": "stream",
     "text": [
      "                                                                                \r"
     ]
    },
    {
     "data": {
      "text/html": [
       "<table>\n",
       "    <thead>\n",
       "        <tr>\n",
       "            <th>num_affected_rows</th>\n",
       "        </tr>\n",
       "    </thead>\n",
       "    <tbody>\n",
       "        <tr>\n",
       "            <td>5</td>\n",
       "        </tr>\n",
       "    </tbody>\n",
       "</table>"
      ],
      "text/plain": [
       "+-------------------+\n",
       "| num_affected_rows |\n",
       "+-------------------+\n",
       "|                 5 |\n",
       "+-------------------+"
      ]
     },
     "execution_count": 7,
     "metadata": {},
     "output_type": "execute_result"
    }
   ],
   "source": [
    "%%sql\n",
    "delete from delta where country = 'Sri Lanka'"
   ]
  },
  {
   "cell_type": "code",
   "execution_count": 8,
   "id": "982b42f4",
   "metadata": {},
   "outputs": [
    {
     "data": {
      "text/plain": [
       "'3.3.2'"
      ]
     },
     "execution_count": 8,
     "metadata": {},
     "output_type": "execute_result"
    }
   ],
   "source": [
    "sc.version"
   ]
  }
 ],
 "metadata": {
  "kernelspec": {
   "display_name": "Python 3 (ipykernel)",
   "language": "python",
   "name": "python3"
  },
  "language_info": {
   "codemirror_mode": {
    "name": "ipython",
    "version": 3
   },
   "file_extension": ".py",
   "mimetype": "text/x-python",
   "name": "python",
   "nbconvert_exporter": "python",
   "pygments_lexer": "ipython3",
   "version": "3.9.18"
  }
 },
 "nbformat": 4,
 "nbformat_minor": 5
}
